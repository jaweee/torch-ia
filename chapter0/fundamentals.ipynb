{
 "cells": [
  {
   "cell_type": "markdown",
   "id": "915c02d7",
   "metadata": {},
   "source": [
    "## fundamentals"
   ]
  },
  {
   "cell_type": "code",
   "execution_count": 2,
   "id": "9c56e6d8",
   "metadata": {},
   "outputs": [
    {
     "data": {
      "text/plain": [
       "'2.0.0'"
      ]
     },
     "execution_count": 2,
     "metadata": {},
     "output_type": "execute_result"
    }
   ],
   "source": [
    "import torch\n",
    "torch.__version__"
   ]
  },
  {
   "cell_type": "markdown",
   "id": "07478dab",
   "metadata": {},
   "source": [
    "### scalar（标量）\n",
    "single number，it's zero dimension tensor"
   ]
  },
  {
   "cell_type": "code",
   "execution_count": null,
   "id": "2c184543",
   "metadata": {},
   "outputs": [],
   "source": [
    "scalar = torch.tensor(7)\n",
    "scalar"
   ]
  },
  {
   "cell_type": "code",
   "execution_count": 5,
   "id": "0b52d84d",
   "metadata": {},
   "outputs": [
    {
     "data": {
      "text/plain": [
       "0"
      ]
     },
     "execution_count": 5,
     "metadata": {},
     "output_type": "execute_result"
    }
   ],
   "source": [
    "scalar.ndim"
   ]
  },
  {
   "cell_type": "markdown",
   "id": "fb3a48d1",
   "metadata": {},
   "source": [
    "get the number from the tensor"
   ]
  },
  {
   "cell_type": "code",
   "execution_count": 6,
   "id": "bf77c165",
   "metadata": {},
   "outputs": [
    {
     "data": {
      "text/plain": [
       "7"
      ]
     },
     "execution_count": 6,
     "metadata": {},
     "output_type": "execute_result"
    }
   ],
   "source": [
    "scalar.item()"
   ]
  },
  {
   "cell_type": "markdown",
   "id": "67568016",
   "metadata": {},
   "source": [
    "### vector（向量）"
   ]
  },
  {
   "cell_type": "code",
   "execution_count": 7,
   "id": "c09652af",
   "metadata": {},
   "outputs": [
    {
     "data": {
      "text/plain": [
       "tensor([7, 7])"
      ]
     },
     "execution_count": 7,
     "metadata": {},
     "output_type": "execute_result"
    }
   ],
   "source": [
    "vector = torch.tensor([7, 7])\n",
    "vector"
   ]
  },
  {
   "cell_type": "code",
   "execution_count": 8,
   "id": "d99f1c1b",
   "metadata": {},
   "outputs": [
    {
     "data": {
      "text/plain": [
       "1"
      ]
     },
     "execution_count": 8,
     "metadata": {},
     "output_type": "execute_result"
    }
   ],
   "source": [
    "# 向量的维度等于根据方括号的个数\n",
    "\n",
    "vector.ndim"
   ]
  },
  {
   "cell_type": "code",
   "execution_count": 9,
   "id": "89c44d61",
   "metadata": {},
   "outputs": [
    {
     "data": {
      "text/plain": [
       "torch.Size([2])"
      ]
     },
     "execution_count": 9,
     "metadata": {},
     "output_type": "execute_result"
    }
   ],
   "source": [
    "# 向量的元素个数是多少\n",
    "\n",
    "vector.shape"
   ]
  },
  {
   "cell_type": "markdown",
   "id": "d1f7f848",
   "metadata": {},
   "source": [
    "### matrix（矩阵）"
   ]
  },
  {
   "cell_type": "code",
   "execution_count": 10,
   "id": "1e3345a0",
   "metadata": {},
   "outputs": [
    {
     "data": {
      "text/plain": [
       "tensor([[7, 8],\n",
       "        [9, 8]])"
      ]
     },
     "execution_count": 10,
     "metadata": {},
     "output_type": "execute_result"
    }
   ],
   "source": [
    "matrix = torch.tensor([[7, 8], [9, 8]])\n",
    "matrix"
   ]
  },
  {
   "cell_type": "code",
   "execution_count": 11,
   "id": "b2ee8f8e",
   "metadata": {},
   "outputs": [
    {
     "data": {
      "text/plain": [
       "2"
      ]
     },
     "execution_count": 11,
     "metadata": {},
     "output_type": "execute_result"
    }
   ],
   "source": [
    "# 矩阵的维度是多少\n",
    "\n",
    "matrix.ndim"
   ]
  },
  {
   "cell_type": "code",
   "execution_count": 12,
   "id": "0574298f",
   "metadata": {},
   "outputs": [
    {
     "data": {
      "text/plain": [
       "torch.Size([2, 2])"
      ]
     },
     "execution_count": 12,
     "metadata": {},
     "output_type": "execute_result"
    }
   ],
   "source": [
    "# 矩阵的形状是多少\n",
    "\n",
    "matrix.shape"
   ]
  },
  {
   "cell_type": "markdown",
   "id": "a0fe1e99",
   "metadata": {},
   "source": [
    "### tensor（张量）"
   ]
  },
  {
   "cell_type": "code",
   "execution_count": 15,
   "id": "20698c0d",
   "metadata": {},
   "outputs": [
    {
     "data": {
      "text/plain": [
       "tensor([[[7, 8, 9],\n",
       "         [6, 7, 8],\n",
       "         [5, 6, 7]],\n",
       "\n",
       "        [[1, 2, 3],\n",
       "         [3, 4, 5],\n",
       "         [5, 6, 7]]])"
      ]
     },
     "execution_count": 15,
     "metadata": {},
     "output_type": "execute_result"
    }
   ],
   "source": [
    "# 包含多个shape相同的矩阵\n",
    "\n",
    "tensori = torch.tensor([[[7, 8, 9], [6, 7, 8], [5, 6, 7]], [[1, 2, 3], [3, 4, 5], [5, 6, 7]]])\n",
    "tensori"
   ]
  },
  {
   "cell_type": "code",
   "execution_count": 16,
   "id": "1d1aaf65",
   "metadata": {},
   "outputs": [
    {
     "data": {
      "text/plain": [
       "3"
      ]
     },
     "execution_count": 16,
     "metadata": {},
     "output_type": "execute_result"
    }
   ],
   "source": [
    "tensori.ndim"
   ]
  },
  {
   "cell_type": "code",
   "execution_count": 17,
   "id": "2bde67c6",
   "metadata": {},
   "outputs": [
    {
     "data": {
      "text/plain": [
       "torch.Size([2, 3, 3])"
      ]
     },
     "execution_count": 17,
     "metadata": {},
     "output_type": "execute_result"
    }
   ],
   "source": [
    "# 这个可以表示两种3*3的数据表\n",
    "# 比如苹果[7, 8, 9]、香蕉[6, 7, 8]、菠萝[5, 6, 7]三天的销售额，以及铅笔[1, 2, 3]、橡皮[3, 4, 5]、作业本[5, 6, 7]三天的销量\n",
    "\n",
    "tensori.shape"
   ]
  },
  {
   "cell_type": "code",
   "execution_count": 21,
   "id": "09e5ef66",
   "metadata": {},
   "outputs": [
    {
     "data": {
      "text/plain": [
       "(tensor([[1, 2, 3],\n",
       "         [3, 4, 5],\n",
       "         [5, 6, 7]]),\n",
       " tensor([[7, 8, 9],\n",
       "         [6, 7, 8],\n",
       "         [5, 6, 7]]))"
      ]
     },
     "execution_count": 21,
     "metadata": {},
     "output_type": "execute_result"
    }
   ],
   "source": [
    "# 文具的三天销量， 水果的三天销量\n",
    "tensori[1], tensori[0]"
   ]
  },
  {
   "cell_type": "markdown",
   "id": "e4b4304b",
   "metadata": {},
   "source": [
    "### random tensor （随机张量创建）\n",
    "\n",
    "使用pytorch构建机器学习或者深度学习时，几乎不可能手动创建，所以使用随机张量构造"
   ]
  },
  {
   "cell_type": "code",
   "execution_count": 28,
   "id": "f763201c",
   "metadata": {},
   "outputs": [
    {
     "data": {
      "text/plain": [
       "(tensor([[0.5642, 0.6071, 0.9450, 0.9943],\n",
       "         [0.5551, 0.5731, 0.4949, 0.8299],\n",
       "         [0.5193, 0.8181, 0.4359, 0.3122]]),\n",
       " torch.float32,\n",
       " <function Tensor.type>,\n",
       " torch.Size([3, 4]))"
      ]
     },
     "execution_count": 28,
     "metadata": {},
     "output_type": "execute_result"
    }
   ],
   "source": [
    "random_tensor = torch.rand(size = (3, 4))\n",
    "random_tensor, random_tensor.dtype, random_tensor.type, random_tensor.shape"
   ]
  },
  {
   "cell_type": "code",
   "execution_count": 30,
   "id": "f9ffb18d",
   "metadata": {},
   "outputs": [
    {
     "data": {
      "text/plain": [
       "(torch.Size([224, 224, 3]), torch.float32)"
      ]
     },
     "execution_count": 30,
     "metadata": {},
     "output_type": "execute_result"
    }
   ],
   "source": [
    "random_image_tensor = torch.rand(size = (224, 224, 3))\n",
    "random_image_tensor.shape, random_image_tensor.dtype"
   ]
  },
  {
   "cell_type": "markdown",
   "id": "a4f283e1",
   "metadata": {},
   "source": [
    "### zeros and ones （填充 0和1 创建）"
   ]
  },
  {
   "cell_type": "code",
   "execution_count": 34,
   "id": "da1f41a3",
   "metadata": {},
   "outputs": [
    {
     "data": {
      "text/plain": [
       "(tensor([[0., 0., 0., 0.],\n",
       "         [0., 0., 0., 0.],\n",
       "         [0., 0., 0., 0.]]),\n",
       " torch.float32,\n",
       " tensor([[1., 1., 1., 1., 1.],\n",
       "         [1., 1., 1., 1., 1.],\n",
       "         [1., 1., 1., 1., 1.],\n",
       "         [1., 1., 1., 1., 1.]]),\n",
       " torch.float32)"
      ]
     },
     "execution_count": 34,
     "metadata": {},
     "output_type": "execute_result"
    }
   ],
   "source": [
    "zero_tensor = torch.zeros(size = (3, 4))\n",
    "one_tensor = torch.ones(size = (4, 5))\n",
    "zero_tensor, zero_tensor.dtype, one_tensor, one_tensor.dtype"
   ]
  },
  {
   "cell_type": "markdown",
   "id": "2edff306",
   "metadata": {},
   "source": [
    "### range （范围创建）\n",
    "\n",
    "使用arange创建一个范围类的tensor"
   ]
  },
  {
   "cell_type": "code",
   "execution_count": 35,
   "id": "4e8111aa",
   "metadata": {},
   "outputs": [
    {
     "data": {
      "text/plain": [
       "(tensor([0.0000, 0.1000, 0.2000, 0.3000, 0.4000, 0.5000, 0.6000, 0.7000, 0.8000,\n",
       "         0.9000, 1.0000, 1.1000, 1.2000, 1.3000, 1.4000, 1.5000, 1.6000, 1.7000,\n",
       "         1.8000, 1.9000, 2.0000, 2.1000, 2.2000, 2.3000, 2.4000, 2.5000, 2.6000,\n",
       "         2.7000, 2.8000, 2.9000, 3.0000, 3.1000, 3.2000, 3.3000, 3.4000, 3.5000,\n",
       "         3.6000, 3.7000, 3.8000, 3.9000, 4.0000, 4.1000, 4.2000, 4.3000, 4.4000,\n",
       "         4.5000, 4.6000, 4.7000, 4.8000, 4.9000, 5.0000, 5.1000, 5.2000, 5.3000,\n",
       "         5.4000, 5.5000, 5.6000, 5.7000, 5.8000, 5.9000, 6.0000, 6.1000, 6.2000,\n",
       "         6.3000, 6.4000, 6.5000, 6.6000, 6.7000, 6.8000, 6.9000, 7.0000, 7.1000,\n",
       "         7.2000, 7.3000, 7.4000, 7.5000, 7.6000, 7.7000, 7.8000, 7.9000, 8.0000,\n",
       "         8.1000, 8.2000, 8.3000, 8.4000, 8.5000, 8.6000, 8.7000, 8.8000, 8.9000,\n",
       "         9.0000, 9.1000, 9.2000, 9.3000, 9.4000, 9.5000, 9.6000, 9.7000, 9.8000,\n",
       "         9.9000]),\n",
       " torch.Size([100]),\n",
       " torch.float32)"
      ]
     },
     "execution_count": 35,
     "metadata": {},
     "output_type": "execute_result"
    }
   ],
   "source": [
    "zero_ten = torch.arange(0, 10, 0.1)\n",
    "zero_ten, zero_ten.shape, zero_ten.dtype"
   ]
  },
  {
   "cell_type": "markdown",
   "id": "7f648742",
   "metadata": {},
   "source": [
    "### like （利用之前的tensor创建）"
   ]
  },
  {
   "cell_type": "code",
   "execution_count": 37,
   "id": "5318715b",
   "metadata": {},
   "outputs": [
    {
     "data": {
      "text/plain": [
       "(tensor([0., 0., 0., 0., 0., 0., 0., 0., 0., 0., 0., 0., 0., 0., 0., 0., 0., 0., 0., 0., 0., 0., 0., 0.,\n",
       "         0., 0., 0., 0., 0., 0., 0., 0., 0., 0., 0., 0., 0., 0., 0., 0., 0., 0., 0., 0., 0., 0., 0., 0.,\n",
       "         0., 0., 0., 0., 0., 0., 0., 0., 0., 0., 0., 0., 0., 0., 0., 0., 0., 0., 0., 0., 0., 0., 0., 0.,\n",
       "         0., 0., 0., 0., 0., 0., 0., 0., 0., 0., 0., 0., 0., 0., 0., 0., 0., 0., 0., 0., 0., 0., 0., 0.,\n",
       "         0., 0., 0., 0.]),\n",
       " torch.Size([100]),\n",
       " tensor([1., 1., 1., 1., 1., 1., 1., 1., 1., 1., 1., 1., 1., 1., 1., 1., 1., 1.,\n",
       "         1., 1., 1., 1., 1., 1., 1., 1., 1., 1., 1., 1., 1., 1., 1., 1., 1., 1.,\n",
       "         1., 1., 1., 1., 1., 1., 1., 1., 1., 1., 1., 1., 1., 1., 1., 1., 1., 1.,\n",
       "         1., 1., 1., 1., 1., 1., 1., 1., 1., 1., 1., 1., 1., 1., 1., 1., 1., 1.,\n",
       "         1., 1., 1., 1., 1., 1., 1., 1., 1., 1., 1., 1., 1., 1., 1., 1., 1., 1.,\n",
       "         1., 1., 1., 1., 1., 1., 1., 1., 1., 1.]),\n",
       " torch.Size([100]))"
      ]
     },
     "execution_count": 37,
     "metadata": {},
     "output_type": "execute_result"
    }
   ],
   "source": [
    "zero_like_zt = torch.zeros_like(input=zero_ten)\n",
    "one_like_zt = torch.ones_like(input=zero_ten)\n",
    "zero_like_zt, zero_like_zt.shape, one_like_zt, one_like_zt.shape"
   ]
  },
  {
   "cell_type": "markdown",
   "id": "e9b5a5c7",
   "metadata": {},
   "source": [
    "### datatypes （利用dtype参数来构建特定数据类型的tensor）"
   ]
  },
  {
   "cell_type": "code",
   "execution_count": null,
   "id": "1cea8572",
   "metadata": {},
   "outputs": [],
   "source": [
    "float_32_tensor = torch.tensor([7.0, 7.0, 7.0], \n",
    "                                  dtype = None,\n",
    "                                  device = None,\n",
    "                                  requires_grad = False)\n",
    "float_32_tensor, float_32_tensor.shape, float_32_tensor.dtype"
   ]
  },
  {
   "cell_type": "code",
   "execution_count": null,
   "id": "38b5d5ef",
   "metadata": {},
   "outputs": [],
   "source": [
    "float_16_tensor = torch.tensor([3.0, 6.0, 10.0],\n",
    "                                  dtype = torch.float16)\n",
    "float_16_tensor, float_16_tensor.dtype"
   ]
  },
  {
   "cell_type": "markdown",
   "id": "7ceedb00",
   "metadata": {},
   "source": [
    "### basic operation （tensor的基本运算，按照元素进行操作）"
   ]
  },
  {
   "cell_type": "code",
   "execution_count": 43,
   "id": "8c6e7703",
   "metadata": {},
   "outputs": [
    {
     "data": {
      "text/plain": [
       "(tensor([11, 12, 13]),\n",
       " tensor([10, 20, 30]),\n",
       " tensor([0, 1, 2]),\n",
       " tensor([0.5000, 1.0000, 1.5000]),\n",
       " tensor([1, 2, 3]))"
      ]
     },
     "execution_count": 43,
     "metadata": {},
     "output_type": "execute_result"
    }
   ],
   "source": [
    "# 创建一个tensor，创建方式：手动（标量、向量、矩阵、张量），随机tensor，zeros and ones，范围tensor，已有复制tensor，自定义tensor\n",
    "\n",
    "ts = torch.tensor([1, 2, 3])\n",
    "ts + 10, ts * 10, ts - 1, ts / 2, ts"
   ]
  },
  {
   "cell_type": "code",
   "execution_count": 44,
   "id": "a8980f7e",
   "metadata": {},
   "outputs": [
    {
     "data": {
      "text/plain": [
       "(tensor([10, 20, 30]),\n",
       " tensor([11, 12, 13]),\n",
       " tensor([-9, -8, -7]),\n",
       " tensor([0.1000, 0.2000, 0.3000]),\n",
       " tensor([1, 2, 3]))"
      ]
     },
     "execution_count": 44,
     "metadata": {},
     "output_type": "execute_result"
    }
   ],
   "source": [
    "# 使用函数来进行tensor运算\n",
    "torch.multiply(ts, 10), torch.add(ts, 10), torch.sub(ts, 10), torch.divide(ts, 10), ts"
   ]
  },
  {
   "cell_type": "code",
   "execution_count": 73,
   "id": "36b9d01d",
   "metadata": {},
   "outputs": [
    {
     "data": {
      "text/plain": [
       "(tensor([1, 2, 3]),\n",
       " tensor([1, 1, 1]),\n",
       " tensor([1, 4, 9]),\n",
       " torch.Size([3]),\n",
       " torch.Size([3]),\n",
       " tensor([2, 3, 4]))"
      ]
     },
     "execution_count": 73,
     "metadata": {},
     "output_type": "execute_result"
    }
   ],
   "source": [
    "# 向量对向量运算\n",
    "# 必须要以相同的shape\n",
    "\n",
    "ts_another = torch.ones(3, dtype = int)\n",
    "\n",
    "ts, ts_another,ts * ts, ts.shape, ts_another.shape, torch.add(ts, ts_another)"
   ]
  },
  {
   "cell_type": "code",
   "execution_count": 76,
   "id": "c197b2df",
   "metadata": {},
   "outputs": [
    {
     "data": {
      "text/plain": [
       "(tensor([[1, 1, 1, 1],\n",
       "         [1, 1, 1, 1],\n",
       "         [1, 1, 1, 1]]),\n",
       " tensor([[0.4792, 0.6702, 0.3059, 0.8388],\n",
       "         [0.5635, 0.8690, 0.6924, 0.1969],\n",
       "         [0.8344, 0.4897, 0.3890, 0.0374]]),\n",
       " tensor([[0.4792, 0.6702, 0.3059, 0.8388],\n",
       "         [0.5635, 0.8690, 0.6924, 0.1969],\n",
       "         [0.8344, 0.4897, 0.3890, 0.0374]]))"
      ]
     },
     "execution_count": 76,
     "metadata": {},
     "output_type": "execute_result"
    }
   ],
   "source": [
    "# 矩阵对矩阵，\n",
    "# 这个不是矩阵的乘法，而是矩阵的每个对应元素进行四则运算\n",
    "# 所以需要相同的shape\n",
    "\n",
    "\n",
    "M1 = torch.ones(size = (3, 4), dtype = int)\n",
    "M2 = torch.rand(size = (3, 4))\n",
    "M1, M2, M1 * M2"
   ]
  },
  {
   "cell_type": "markdown",
   "id": "51a5413f",
   "metadata": {},
   "source": [
    "### 矩阵乘法，（线性代数的矩阵乘法）"
   ]
  },
  {
   "cell_type": "code",
   "execution_count": 80,
   "id": "030fafd6",
   "metadata": {},
   "outputs": [
    {
     "data": {
      "text/plain": [
       "(tensor([1, 4, 9]), tensor(14), tensor(14))"
      ]
     },
     "execution_count": 80,
     "metadata": {},
     "output_type": "execute_result"
    }
   ],
   "source": [
    "ts * ts, torch.matmul(ts, ts), ts @ ts"
   ]
  },
  {
   "cell_type": "code",
   "execution_count": 84,
   "id": "d7ef2042",
   "metadata": {},
   "outputs": [
    {
     "data": {
      "text/plain": [
       "(tensor([[0.8917, 0.8420, 1.0560],\n",
       "         [0.6886, 0.8086, 0.9007],\n",
       "         [0.6849, 0.3667, 0.6603]]),\n",
       " torch.Size([3, 3]),\n",
       " 2)"
      ]
     },
     "execution_count": 84,
     "metadata": {},
     "output_type": "execute_result"
    }
   ],
   "source": [
    "A = torch.rand(size = (3, 2), dtype = torch.float32)\n",
    "B = torch.rand(size = (2, 3), dtype = torch.float32)\n",
    "C = torch.matmul(A, B)\n",
    "C, C.shape, C.ndim"
   ]
  },
  {
   "cell_type": "code",
   "execution_count": 87,
   "id": "ac961270",
   "metadata": {},
   "outputs": [
    {
     "data": {
      "text/plain": [
       "(torch.Size([3, 2]),\n",
       " tensor([[0.8743, 0.7444],\n",
       "         [0.8991, 0.4762],\n",
       "         [0.2758, 0.7460]]),\n",
       " torch.Size([3, 6]),\n",
       " tensor([[ 1.4320,  0.4344,  0.3117, -0.0917,  0.7040,  0.7404],\n",
       "         [ 1.2880,  0.2561,  0.2696, -0.2116,  0.8585,  0.7201],\n",
       "         [ 1.1093,  0.5346,  0.4047,  0.1150,  0.3300,  0.3727]],\n",
       "        grad_fn=<AddmmBackward0>))"
      ]
     },
     "execution_count": 87,
     "metadata": {},
     "output_type": "execute_result"
    }
   ],
   "source": [
    "# 线性回归 y = x·A + b\n",
    "\n",
    "torch.manual_seed(42)\n",
    "\n",
    "linear = torch.nn.Linear(in_features=2,\n",
    "                         out_features=6)\n",
    "x = A\n",
    "output = linear(x)\n",
    "x.shape, x, output.shape, output"
   ]
  },
  {
   "cell_type": "markdown",
   "id": "432d1766",
   "metadata": {},
   "source": [
    "### 查找\n",
    "\n",
    "1. 查找元素\n",
    "2. 查找下标"
   ]
  },
  {
   "cell_type": "code",
   "execution_count": 106,
   "id": "213693c8",
   "metadata": {},
   "outputs": [
    {
     "name": "stdout",
     "output_type": "stream",
     "text": [
      "使用tensor的函数： tensor([ 0, 10, 20, 30, 40, 50, 60, 70, 80, 90]) torch.Size([10]) tensor(0) tensor(90) tensor(45.) tensor(450)\n",
      "使用torch的函数： tensor([ 0, 10, 20, 30, 40, 50, 60, 70, 80, 90]) tensor(0) tensor(90) tensor(45.) tensor(450)\n"
     ]
    }
   ],
   "source": [
    "# 查找tensor中的常用值, min、 max、 mean、 sum\n",
    "# mean和sum\n",
    "\n",
    "x = torch.arange(0, 100, 10)\n",
    "print(\"使用tensor的函数：\", x, x.shape, x.min(), x.max(), x.type(torch.float32).mean(), x.sum())\n",
    "print(\"使用torch的函数：\", x, torch.min(x), torch.max(x), torch.mean(x.type(torch.float32)), torch.sum(x))"
   ]
  },
  {
   "cell_type": "code",
   "execution_count": 112,
   "id": "ebeeb47d",
   "metadata": {},
   "outputs": [
    {
     "name": "stdout",
     "output_type": "stream",
     "text": [
      "tensor([ 0, 10, 20, 30, 40, 50, 60, 70, 80, 90])\n",
      "min和max的下标 tensor(0) tensor(9)\n",
      "\n"
     ]
    }
   ],
   "source": [
    "# 查找最值min、max的下标是多少\n",
    "\n",
    "print(x)\n",
    "print(\"min和max的下标\", x.argmin(), x.argmax())\n",
    "print(\"\")"
   ]
  },
  {
   "cell_type": "markdown",
   "id": "0bea48c5",
   "metadata": {},
   "source": [
    "### 修改tensor\n",
    "\n",
    "1. tensor的类型\n",
    "2. tensor的形状"
   ]
  },
  {
   "cell_type": "code",
   "execution_count": 114,
   "id": "37f244df",
   "metadata": {},
   "outputs": [
    {
     "name": "stdout",
     "output_type": "stream",
     "text": [
      "tensor([ 0, 10, 20, 30, 40, 50, 60, 70, 80, 90])\n",
      "修改之前x的dtype是： torch.int64\n",
      "修改之后x的dtype是： torch.float16\n"
     ]
    }
   ],
   "source": [
    "# 修改tensor的类型\n",
    "print(x)\n",
    "print(\"修改之前x的dtype是：\", x.dtype)\n",
    "print(\"修改之后x的dtype是：\", x.type(torch.float16).dtype)"
   ]
  },
  {
   "cell_type": "code",
   "execution_count": 165,
   "id": "36c9a684",
   "metadata": {},
   "outputs": [
    {
     "name": "stdout",
     "output_type": "stream",
     "text": [
      "tensor([1, 2, 3, 4, 5, 6, 7, 8]) torch.Size([8])\n",
      "tensor([[1, 2, 3, 4],\n",
      "        [5, 6, 7, 8]]) torch.Size([2, 4])\n"
     ]
    }
   ],
   "source": [
    "# 修改tensor的形状\n",
    "\n",
    "x = torch.arange(1, 9, 1)\n",
    "print(x, x.shape)\n",
    "\n",
    "y = x.reshape(2, 4)\n",
    "print(y, y.shape)"
   ]
  },
  {
   "cell_type": "code",
   "execution_count": 166,
   "id": "d21e7326",
   "metadata": {},
   "outputs": [
    {
     "name": "stdout",
     "output_type": "stream",
     "text": [
      "tensor([[1, 2, 3, 4],\n",
      "        [5, 6, 7, 8]])\n"
     ]
    }
   ],
   "source": [
    "# 使用view来创建，当x的值是被共享的，也就是相当于多了一个引用\n",
    "\n",
    "z = x.view(2, 4)\n",
    "\n",
    "print(z)"
   ]
  },
  {
   "cell_type": "code",
   "execution_count": 201,
   "id": "105e34c6",
   "metadata": {},
   "outputs": [
    {
     "name": "stdout",
     "output_type": "stream",
     "text": [
      "y:  tensor([[0, 0, 0, 0],\n",
      "        [0, 0, 0, 0]])\n",
      "z:  tensor([[0, 0, 0, 0],\n",
      "        [0, 0, 0, 0]])\n",
      "z:  tensor([[5, 5, 5, 5],\n",
      "        [5, 5, 5, 5]])\n",
      "x:  tensor([5, 5, 5, 5, 5, 5, 5, 5])\n",
      "y:  tensor([[4, 4, 4, 4],\n",
      "        [4, 4, 4, 4]])\n",
      "x:  tensor([4, 4, 4, 4, 4, 4, 4, 4])\n"
     ]
    }
   ],
   "source": [
    "# 比较view 和 reshape\n",
    "# view是数据共享的，reshape是不确定有可能是数据共享，也用可能是创建一个新的空间\n",
    "\n",
    "x.fill_(0)\n",
    "\n",
    "print(\"y: \", y)\n",
    "print(\"z: \", z)\n",
    "\n",
    "# 执行了32次的结果都是一致的\n",
    "# 如果修改了view的值，那么x的值也随着改动，reshape同样是不确定的\n",
    "z[:] = 5\n",
    "print(\"z: \", z)\n",
    "print(\"x: \", x)\n",
    "\n",
    "y[:] = 4\n",
    "print(\"y: \", y)\n",
    "print(\"x: \", x)"
   ]
  },
  {
   "cell_type": "code",
   "execution_count": 217,
   "id": "88b692ea",
   "metadata": {},
   "outputs": [
    {
     "name": "stdout",
     "output_type": "stream",
     "text": [
      "tensor([[ 2,  3,  4,  5,  6,  7,  8,  9],\n",
      "        [ 0,  1,  1,  2,  2,  3,  3,  4],\n",
      "        [ 1,  4,  9, 16, 25, 36, 49, 64],\n",
      "        [ 0,  0,  0,  0,  0,  0,  0,  0]])\n",
      "tensor([[1, 1, 1, 1],\n",
      "        [2, 2, 2, 2],\n",
      "        [3, 3, 3, 3],\n",
      "        [4, 4, 4, 4],\n",
      "        [5, 5, 5, 5],\n",
      "        [6, 6, 6, 6],\n",
      "        [7, 7, 7, 7],\n",
      "        [8, 8, 8, 8]])\n"
     ]
    }
   ],
   "source": [
    "# stacking x\n",
    "\n",
    "x = torch.arange(1, 9, 1)\n",
    "x_statcked0 = torch.stack([(x+1), (x/2).type(torch.int32), x*x, x-x], dim=0)\n",
    "x_statcked1 = torch.stack([x, x, x, x], dim=1)\n",
    "print(x_statcked0)\n",
    "print(x_statcked1)"
   ]
  },
  {
   "cell_type": "code",
   "execution_count": null,
   "id": "01a1f3c5",
   "metadata": {},
   "outputs": [],
   "source": [
    "# 减去tensor的维度\n",
    "\n",
    "x = torch"
   ]
  }
 ],
 "metadata": {
  "kernelspec": {
   "display_name": "Python 3 (ipykernel)",
   "language": "python",
   "name": "python3"
  },
  "language_info": {
   "codemirror_mode": {
    "name": "ipython",
    "version": 3
   },
   "file_extension": ".py",
   "mimetype": "text/x-python",
   "name": "python",
   "nbconvert_exporter": "python",
   "pygments_lexer": "ipython3",
   "version": "3.8.16"
  }
 },
 "nbformat": 4,
 "nbformat_minor": 5
}
