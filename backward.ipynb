{
 "cells": [
  {
   "cell_type": "markdown",
   "id": "33ec9af3",
   "metadata": {},
   "source": [
    "### 反向传播"
   ]
  },
  {
   "cell_type": "code",
   "execution_count": 36,
   "id": "5090ef5e",
   "metadata": {},
   "outputs": [
    {
     "data": {
      "text/plain": [
       "(tensor([0., 1., 2., 3.], requires_grad=True), None)"
      ]
     },
     "execution_count": 36,
     "metadata": {},
     "output_type": "execute_result"
    }
   ],
   "source": [
    "import torch\n",
    "\n",
    "# 使用标量来创建torch，并且需要保存梯度\n",
    "x = torch.arange(4.0, requires_grad=True)\n",
    "\n",
    "x, x.grad"
   ]
  },
  {
   "cell_type": "code",
   "execution_count": 37,
   "id": "eaa016bf",
   "metadata": {},
   "outputs": [
    {
     "name": "stdout",
     "output_type": "stream",
     "text": [
      "tensor([0., 1., 2., 3.], requires_grad=True) None\n"
     ]
    },
    {
     "data": {
      "text/plain": [
       "(tensor(42., grad_fn=<MulBackward0>), None)"
      ]
     },
     "execution_count": 37,
     "metadata": {},
     "output_type": "execute_result"
    }
   ],
   "source": [
    "# 构建 y = 2*x^2，这里是wise-element，元素对应相乘\n",
    "\n",
    "print(x, x.grad)\n",
    "y = 3 * torch.dot(x, x)\n",
    "y, x.grad"
   ]
  },
  {
   "cell_type": "code",
   "execution_count": 38,
   "id": "984855de",
   "metadata": {},
   "outputs": [
    {
     "name": "stdout",
     "output_type": "stream",
     "text": [
      "None\n"
     ]
    },
    {
     "data": {
      "text/plain": [
       "tensor([ 0.,  6., 12., 18.])"
      ]
     },
     "execution_count": 38,
     "metadata": {},
     "output_type": "execute_result"
    }
   ],
   "source": [
    "# 现在对y进行反向传播，计算y对x的导数\n",
    "print(x.grad)\n",
    "y.backward()\n",
    "x.grad"
   ]
  },
  {
   "cell_type": "code",
   "execution_count": 40,
   "id": "d4f0eaff",
   "metadata": {},
   "outputs": [
    {
     "data": {
      "text/plain": [
       "tensor([True, True, True, True])"
      ]
     },
     "execution_count": 40,
     "metadata": {},
     "output_type": "execute_result"
    }
   ],
   "source": [
    "# 验证反向传播是否正确\n",
    "x.grad == 6 * x"
   ]
  },
  {
   "cell_type": "code",
   "execution_count": 22,
   "id": "1198dbc6",
   "metadata": {},
   "outputs": [
    {
     "name": "stdout",
     "output_type": "stream",
     "text": [
      "x.grad: tensor([0., 0., 0., 0.])\n",
      "y:  tensor(6., grad_fn=<SumBackward0>)\n",
      "y:  tensor(6., grad_fn=<SumBackward0>)\n",
      "x.grad: tensor([1., 1., 1., 1.])\n"
     ]
    }
   ],
   "source": [
    "# \n",
    "x.grad.zero_()\n",
    "print(\"x.grad:\", x.grad)\n",
    "y = x.sum()\n",
    "print(\"y: \", y)\n",
    "y.backward()\n",
    "print(\"y: \", y)\n",
    "print(\"x.grad:\", x.grad)"
   ]
  },
  {
   "cell_type": "markdown",
   "id": "8ec0484e",
   "metadata": {},
   "source": [
    "#### 非标量的反向传播\n",
    "\n",
    "不是常用的，一般都是对标量进行自动求导"
   ]
  },
  {
   "cell_type": "code",
   "execution_count": 26,
   "id": "e6488941",
   "metadata": {},
   "outputs": [
    {
     "name": "stdout",
     "output_type": "stream",
     "text": [
      "y:  tensor([0., 1., 4., 9.], grad_fn=<MulBackward0>)\n"
     ]
    },
    {
     "data": {
      "text/plain": [
       "tensor([0., 2., 4., 6.])"
      ]
     },
     "execution_count": 26,
     "metadata": {},
     "output_type": "execute_result"
    }
   ],
   "source": [
    "x.grad.zero_()\n",
    "\n",
    "y = x * x\n",
    "print(\"y: \", y)\n",
    "y.sum().backward()\n",
    "x.grad"
   ]
  }
 ],
 "metadata": {
  "kernelspec": {
   "display_name": "Python 3 (ipykernel)",
   "language": "python",
   "name": "python3"
  },
  "language_info": {
   "codemirror_mode": {
    "name": "ipython",
    "version": 3
   },
   "file_extension": ".py",
   "mimetype": "text/x-python",
   "name": "python",
   "nbconvert_exporter": "python",
   "pygments_lexer": "ipython3",
   "version": "3.8.16"
  }
 },
 "nbformat": 4,
 "nbformat_minor": 5
}
