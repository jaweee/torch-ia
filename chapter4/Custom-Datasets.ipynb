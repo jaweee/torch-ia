{
 "cells": [
  {
   "cell_type": "markdown",
   "id": "4d867a01",
   "metadata": {},
   "source": [
    "### 数据集定制化\n",
    "\n",
    "由于pytorch中数据集也不是应有尽有的，所以，在某些情况下，需要我们自己定制数据集 "
   ]
  },
  {
   "cell_type": "code",
   "execution_count": 4,
   "id": "b7223146",
   "metadata": {},
   "outputs": [
    {
     "data": {
      "text/plain": [
       "'cpu'"
      ]
     },
     "execution_count": 4,
     "metadata": {},
     "output_type": "execute_result"
    }
   ],
   "source": [
    "### 0. 引入包\n",
    "\n",
    "import torch\n",
    "from torch import nn\n",
    "\n",
    "\n",
    "device = \"cuda\" if torch.cuda.is_available() else \"cpu\"\n",
    "device"
   ]
  }
 ],
 "metadata": {
  "kernelspec": {
   "display_name": "Python 3 (ipykernel)",
   "language": "python",
   "name": "python3"
  },
  "language_info": {
   "codemirror_mode": {
    "name": "ipython",
    "version": 3
   },
   "file_extension": ".py",
   "mimetype": "text/x-python",
   "name": "python",
   "nbconvert_exporter": "python",
   "pygments_lexer": "ipython3",
   "version": "3.8.16"
  }
 },
 "nbformat": 4,
 "nbformat_minor": 5
}
